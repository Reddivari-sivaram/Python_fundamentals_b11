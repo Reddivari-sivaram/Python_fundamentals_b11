{
 "cells": [
  {
   "cell_type": "code",
   "execution_count": 4,
   "metadata": {},
   "outputs": [],
   "source": [
    "#function in pyhton---to perform a specific task --mainly used for code reusabilty\n",
    "#doc string - \"\"\"test\"\"\" ----> comment inside a function\n",
    "def get_formeted_name(firstname,lastname): \n",
    "    \"\"\"displaying of my name\"\"\"\n",
    "    print(f\"my firstname is {firstname}\")\n",
    "    print(f\"my lastname is {lastname}\")"
   ]
  },
  {
   "cell_type": "code",
   "execution_count": 5,
   "metadata": {},
   "outputs": [
    {
     "name": "stdout",
     "output_type": "stream",
     "text": [
      "my firstname is siva\n",
      "my lastname is ram\n"
     ]
    }
   ],
   "source": [
    "get_formeted_name('siva','ram') # meaningful execution when the arguments are passed in the right order"
   ]
  },
  {
   "cell_type": "code",
   "execution_count": 14,
   "metadata": {},
   "outputs": [],
   "source": [
    "def pet(animal_type,name='snoopy'):\n",
    "    print(f\"my animal type is {animal_type}\")\n",
    "    print(f\"my {animal_type} name is {name}\")"
   ]
  },
  {
   "cell_type": "code",
   "execution_count": 12,
   "metadata": {},
   "outputs": [
    {
     "name": "stdout",
     "output_type": "stream",
     "text": [
      "my animal type is cat\n",
      "my cat name is snoopy\n"
     ]
    }
   ],
   "source": [
    "pet('cat')"
   ]
  },
  {
   "cell_type": "code",
   "execution_count": 13,
   "metadata": {},
   "outputs": [],
   "source": [
    "#types of arguments\n",
    "#1)positional argumets\n",
    "#2)keyword arguments"
   ]
  },
  {
   "cell_type": "code",
   "execution_count": null,
   "metadata": {},
   "outputs": [],
   "source": [
    "#By default function will be accepting as positional argument"
   ]
  },
  {
   "cell_type": "code",
   "execution_count": null,
   "metadata": {},
   "outputs": [],
   "source": [
    "#Keyword argument - passing arguments through parameters"
   ]
  },
  {
   "cell_type": "code",
   "execution_count": 16,
   "metadata": {},
   "outputs": [
    {
     "name": "stdout",
     "output_type": "stream",
     "text": [
      "my firstname is siva\n",
      "my lastname is ram\n"
     ]
    }
   ],
   "source": [
    "get_formeted_name(firstname='siva',lastname='ram') #keyword arguments"
   ]
  },
  {
   "cell_type": "code",
   "execution_count": null,
   "metadata": {},
   "outputs": [],
   "source": [
    "#Default Arguments - To handle incomplete function arguments"
   ]
  },
  {
   "cell_type": "code",
   "execution_count": 38,
   "metadata": {},
   "outputs": [],
   "source": [
    "def math_oprtn(a,b,c=9):\n",
    "    value=a*b+c\n",
    "    print(f\"the operation value is {value}\")"
   ]
  },
  {
   "cell_type": "code",
   "execution_count": 39,
   "metadata": {},
   "outputs": [
    {
     "name": "stdout",
     "output_type": "stream",
     "text": [
      "the operation value is 11\n"
     ]
    }
   ],
   "source": [
    "math_oprtn(1,2)"
   ]
  },
  {
   "cell_type": "code",
   "execution_count": null,
   "metadata": {},
   "outputs": [],
   "source": []
  },
  {
   "cell_type": "code",
   "execution_count": null,
   "metadata": {},
   "outputs": [],
   "source": []
  }
 ],
 "metadata": {
  "kernelspec": {
   "display_name": "Python 3",
   "language": "python",
   "name": "python3"
  },
  "language_info": {
   "codemirror_mode": {
    "name": "ipython",
    "version": 3
   },
   "file_extension": ".py",
   "mimetype": "text/x-python",
   "name": "python",
   "nbconvert_exporter": "python",
   "pygments_lexer": "ipython3",
   "version": "3.7.4"
  }
 },
 "nbformat": 4,
 "nbformat_minor": 2
}
