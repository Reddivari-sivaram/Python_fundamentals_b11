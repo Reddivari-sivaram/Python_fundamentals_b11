{
 "cells": [
  {
   "cell_type": "code",
   "execution_count": 10,
   "metadata": {},
   "outputs": [],
   "source": [
    "#Creating a my_Class class \n",
    "\n",
    "#self is temporary place holder for oject\n",
    "\n",
    "#Attributes:-A variable writen inside a class is called attributes\n",
    "***********\n",
    "\n",
    "#Dynamic passing of the arguments"
   ]
  },
  {
   "cell_type": "code",
   "execution_count": null,
   "metadata": {},
   "outputs": [],
   "source": [
    "class my_class:\n",
    "    \"\"\"A simple class which is about my self in collge\"\"\"\n",
    "    def __init__(self,name,rollnum):\n",
    "        \"\"\"intializing name and rollnum attributes\"\"\"\n",
    "        self.name=name\n",
    "        self.rollnum=rollnum\n",
    "    def my_self(self):\n",
    "        \"\"\"Printing about my self\"\"\"\n",
    "        print(f\"my name is {self.name.title()}\")\n",
    "        print(f\"my rollnum is {self.rollnum}\")\n",
    "        \n"
   ]
  },
  {
   "cell_type": "code",
   "execution_count": null,
   "metadata": {},
   "outputs": [],
   "source": []
  },
  {
   "cell_type": "code",
   "execution_count": null,
   "metadata": {},
   "outputs": [],
   "source": []
  },
  {
   "cell_type": "code",
   "execution_count": null,
   "metadata": {},
   "outputs": [],
   "source": []
  },
  {
   "cell_type": "code",
   "execution_count": null,
   "metadata": {},
   "outputs": [],
   "source": []
  }
 ],
 "metadata": {
  "kernelspec": {
   "display_name": "Python 3",
   "language": "python",
   "name": "python3"
  },
  "language_info": {
   "codemirror_mode": {
    "name": "ipython",
    "version": 3
   },
   "file_extension": ".py",
   "mimetype": "text/x-python",
   "name": "python",
   "nbconvert_exporter": "python",
   "pygments_lexer": "ipython3",
   "version": "3.7.4"
  }
 },
 "nbformat": 4,
 "nbformat_minor": 2
}
